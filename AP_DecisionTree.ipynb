{
  "nbformat": 4,
  "nbformat_minor": 0,
  "metadata": {
    "colab": {
      "name": "AP_DecisionTree.ipynb",
      "private_outputs": true,
      "provenance": [],
      "include_colab_link": true
    },
    "kernelspec": {
      "name": "python3",
      "display_name": "Python 3"
    }
  },
  "cells": [
    {
      "cell_type": "markdown",
      "metadata": {
        "id": "view-in-github",
        "colab_type": "text"
      },
      "source": [
        "<a href=\"https://colab.research.google.com/github/chongiehuan/Econ-211/blob/main/AP_DecisionTree.ipynb\" target=\"_parent\"><img src=\"https://colab.research.google.com/assets/colab-badge.svg\" alt=\"Open In Colab\"/></a>"
      ]
    },
    {
      "cell_type": "markdown",
      "metadata": {
        "id": "TB0sNYDCJ0M0"
      },
      "source": [
        "# Step 1: Data Wrangling"
      ]
    },
    {
      "cell_type": "code",
      "metadata": {
        "id": "fIsslb8YINKh"
      },
      "source": [
        "import pandas as pd \r\n",
        "import numpy as np\r\n",
        "from sklearn.tree import DecisionTreeClassifier # Import Decision Tree Classifier\r\n",
        "from sklearn import metrics \r\n",
        "clf = DecisionTreeClassifier()"
      ],
      "execution_count": null,
      "outputs": []
    },
    {
      "cell_type": "code",
      "metadata": {
        "id": "qTM-a9GZIWRL"
      },
      "source": [
        "###show all columns\r\n",
        "pd.set_option('display.max_columns', None)\r\n",
        "pd.set_option('display.max_rows', None)"
      ],
      "execution_count": null,
      "outputs": []
    },
    {
      "cell_type": "code",
      "metadata": {
        "id": "ZH8NDdVFImVZ"
      },
      "source": [
        "# GDPdelta shows whether a country's GDP has positive growth (1) or negative growth (0)\r\n",
        "# PM2.5 shows the average exposure to PM2.5 particles in micrograms per cubic meter\r\n",
        "# Data taken from 2017\r\n",
        "df_AP=pd.read_csv('https://raw.githubusercontent.com/chongiehuan/ECON211-Week-2/main/airpollutiondataset.csv?token=ARRX546GJJZTDX2VLD3WRN2772FRO')\r\n",
        "df_AP.replace(1,'1',inplace=True)\r\n",
        "df_AP.replace(0,'0',inplace=True)\r\n",
        "df_AP\r\n",
        "\r\n"
      ],
      "execution_count": null,
      "outputs": []
    },
    {
      "cell_type": "markdown",
      "metadata": {
        "id": "WXfdY-ZcJ3pu"
      },
      "source": [
        "# Build Decision Tree"
      ]
    },
    {
      "cell_type": "code",
      "metadata": {
        "id": "Ch9KDctHJwMk"
      },
      "source": [
        "feature_names=['PM2.5']\r\n",
        "features=df_AP[feature_names]\r\n",
        "targets=df_AP['GDPdelta']\r\n",
        "targets_names = targets.unique()"
      ],
      "execution_count": null,
      "outputs": []
    },
    {
      "cell_type": "code",
      "metadata": {
        "id": "4M83RDrL0_3a"
      },
      "source": [
        "from sklearn.model_selection import train_test_split\r\n",
        "train_features, test_features, train_targets, test_targets = train_test_split(features, targets, test_size=0.2, random_state=42)"
      ],
      "execution_count": null,
      "outputs": []
    },
    {
      "cell_type": "code",
      "metadata": {
        "id": "EcMhGaehLC_y"
      },
      "source": [
        "from sklearn import metrics\r\n",
        "from sklearn.metrics import accuracy_score"
      ],
      "execution_count": null,
      "outputs": []
    },
    {
      "cell_type": "code",
      "metadata": {
        "id": "AhVIHZN6LEuj"
      },
      "source": [
        "#####Optimizing Decision Tree Performance\r\n",
        "# Create Decision Tree classifer object\r\n",
        "clf = DecisionTreeClassifier(criterion='entropy', max_depth=2,random_state=0)\r\n",
        "\r\n",
        "# Train Decision Tree Classifer\r\n",
        "clf = clf.fit(train_features,train_targets)\r\n",
        "\r\n",
        "#Predict the response for test dataset\r\n",
        "y_pred = clf.predict(test_features)\r\n",
        "\r\n",
        "# Compute test set accuracy  \r\n",
        "acc = accuracy_score(y_pred, test_targets)\r\n",
        "print(\"Test set accuracy: {:.2f}\".format(acc))"
      ],
      "execution_count": null,
      "outputs": []
    },
    {
      "cell_type": "code",
      "metadata": {
        "id": "8n4BxXMALGm5"
      },
      "source": [
        "from sklearn.tree import export_graphviz\r\n",
        "from sklearn.externals.six import StringIO  \r\n",
        "from IPython.display import Image  \r\n",
        "import pydotplus"
      ],
      "execution_count": null,
      "outputs": []
    },
    {
      "cell_type": "code",
      "metadata": {
        "id": "IWcrutlxLI4-"
      },
      "source": [
        "dot_data = StringIO()\r\n",
        "export_graphviz(clf, out_file=dot_data,  \r\n",
        "                filled=True, rounded=True,\r\n",
        "                special_characters=True,feature_names = feature_names,class_names=targets_names)\r\n",
        "graph = pydotplus.graph_from_dot_data(dot_data.getvalue())  \r\n",
        "graph.write_png('AP.png')\r\n",
        "Image(graph.create_png())"
      ],
      "execution_count": null,
      "outputs": []
    },
    {
      "cell_type": "code",
      "metadata": {
        "id": "cliGo7ZKLKr5"
      },
      "source": [
        ""
      ],
      "execution_count": null,
      "outputs": []
    }
  ]
}